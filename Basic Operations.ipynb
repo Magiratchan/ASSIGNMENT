{
 "cells": [
  {
   "cell_type": "markdown",
   "id": "97a9732a-c87c-41fa-b0d6-52844f8bdb14",
   "metadata": {},
   "source": [
    "# operations on list"
   ]
  },
  {
   "cell_type": "markdown",
   "id": "dfc0e775-acb7-4ed9-8dcd-42c6eb9852b1",
   "metadata": {},
   "source": [
    "#### 1.creation"
   ]
  },
  {
   "cell_type": "code",
   "execution_count": 3,
   "id": "31af73b4-2c16-4052-bc67-3b76729d199f",
   "metadata": {},
   "outputs": [
    {
     "name": "stdout",
     "output_type": "stream",
     "text": [
      "[1, 2, 3]\n"
     ]
    }
   ],
   "source": [
    "list1 = [1, 2, 3]\n",
    "list2 = list((4, 5, 6))   # using list()\n",
    "list3 = []                # empty list\n",
    "print(list1)"
   ]
  },
  {
   "cell_type": "markdown",
   "id": "3c87ed21-a368-458a-bab8-700c7b43baf4",
   "metadata": {},
   "source": [
    "#### 2.Accessing elements"
   ]
  },
  {
   "cell_type": "code",
   "execution_count": 4,
   "id": "d0eb2412-3dfb-45a0-9d8a-67995dc1216f",
   "metadata": {},
   "outputs": [
    {
     "name": "stdout",
     "output_type": "stream",
     "text": [
      "10\n",
      "50\n",
      "[20, 30, 40]\n"
     ]
    }
   ],
   "source": [
    "nums = [10, 20, 30, 40, 50]\n",
    "print(nums[0])     # 10\n",
    "print(nums[-1])    # 50\n",
    "print(nums[1:4])   # [20, 30, 40] (slicing)\n"
   ]
  },
  {
   "cell_type": "markdown",
   "id": "994db189-f9c7-4271-b01b-bf0eac1d7b9f",
   "metadata": {},
   "source": [
    "#### 3.Modification"
   ]
  },
  {
   "cell_type": "code",
   "execution_count": 5,
   "id": "ae319a59-7805-423d-b96e-bb76b9d8da1c",
   "metadata": {},
   "outputs": [
    {
     "name": "stdout",
     "output_type": "stream",
     "text": [
      "[10, 2, 3, 4]\n"
     ]
    }
   ],
   "source": [
    "nums = [1, 2, 3, 4]\n",
    "nums[0] = 10\n",
    "print(nums)   # [10, 2, 3, 4]\n"
   ]
  },
  {
   "cell_type": "markdown",
   "id": "cc837751-7a13-4e88-8012-2e28a6902c32",
   "metadata": {},
   "source": [
    "#### 4.concentration&Repetition"
   ]
  },
  {
   "cell_type": "code",
   "execution_count": 6,
   "id": "56f63710-7a5e-431e-94d6-09f2096099a6",
   "metadata": {},
   "outputs": [
    {
     "name": "stdout",
     "output_type": "stream",
     "text": [
      "[1, 2, 3, 4, 5]\n",
      "[1, 2, 3, 1, 2, 3]\n"
     ]
    }
   ],
   "source": [
    "a = [1, 2, 3]\n",
    "b = [4, 5]\n",
    "print(a + b)   # [1, 2, 3, 4, 5]\n",
    "print(a * 2)   # [1, 2, 3, 1, 2, 3]\n",
    "\n"
   ]
  },
  {
   "cell_type": "markdown",
   "id": "4c14a078-81d2-4d07-888f-7954272b9703",
   "metadata": {},
   "source": [
    "#### 5.Membership test"
   ]
  },
  {
   "cell_type": "code",
   "execution_count": null,
   "id": "cd6e0072-93e1-4092-9903-e209a2ddd65f",
   "metadata": {},
   "outputs": [],
   "source": [
    "nums = [1, 2, 3, 4, 5]\n",
    "print(3 in nums)     # True\n",
    "print(6 not in nums) # True\n"
   ]
  },
  {
   "cell_type": "markdown",
   "id": "e0e4d2e5-192e-4b71-be6c-6031a0006f79",
   "metadata": {},
   "source": [
    "#### 6.Iteration"
   ]
  },
  {
   "cell_type": "code",
   "execution_count": 7,
   "id": "e4785be0-cdf7-4dae-ac60-3bae8017d867",
   "metadata": {},
   "outputs": [
    {
     "name": "stdout",
     "output_type": "stream",
     "text": [
      "apple\n",
      "banana\n",
      "cherry\n"
     ]
    }
   ],
   "source": [
    "for item in [\"apple\", \"banana\", \"cherry\"]:\n",
    "    print(item)\n"
   ]
  },
  {
   "cell_type": "markdown",
   "id": "9c8f89a3-fdb9-45f3-94c2-113580a56066",
   "metadata": {},
   "source": [
    "#### 7.list methods"
   ]
  },
  {
   "cell_type": "code",
   "execution_count": 8,
   "id": "2081bfbf-df83-41c0-be17-3698487717d1",
   "metadata": {},
   "outputs": [
    {
     "name": "stdout",
     "output_type": "stream",
     "text": [
      "2\n",
      "1\n"
     ]
    }
   ],
   "source": [
    "fruits = [\"apple\", \"banana\", \"cherry\"]\n",
    "\n",
    "fruits.append(\"mango\")     # add at end\n",
    "fruits.insert(1, \"orange\") # insert at index\n",
    "fruits.remove(\"banana\")    # remove element\n",
    "popped = fruits.pop()      # removes last element\n",
    "fruits.sort()              # sort ascending\n",
    "fruits.reverse()           # reverse order\n",
    "print(fruits.index(\"apple\")) # find position\n",
    "print(fruits.count(\"apple\")) # count occurrences\n"
   ]
  },
  {
   "cell_type": "markdown",
   "id": "6a5417af-890b-4684-9f5c-c30fdce44199",
   "metadata": {},
   "source": [
    "#### 8.Built-in functions"
   ]
  },
  {
   "cell_type": "code",
   "execution_count": 9,
   "id": "dc690ba9-82b6-42ef-9497-0dbcfe324b22",
   "metadata": {},
   "outputs": [
    {
     "name": "stdout",
     "output_type": "stream",
     "text": [
      "5\n",
      "8\n",
      "2\n",
      "24\n"
     ]
    }
   ],
   "source": [
    "nums = [5, 2, 8, 2, 7]\n",
    "print(len(nums))   # 5\n",
    "print(max(nums))   # 8\n",
    "print(min(nums))   # 2\n",
    "print(sum(nums))   # 24\n"
   ]
  },
  {
   "cell_type": "markdown",
   "id": "be6b7f6c-4fb6-4257-b9c0-fc8dea419e67",
   "metadata": {},
   "source": [
    "#### 9.List comprehension"
   ]
  },
  {
   "cell_type": "code",
   "execution_count": 10,
   "id": "d02c0d9c-82da-45f7-9669-5100a43f14d7",
   "metadata": {},
   "outputs": [
    {
     "name": "stdout",
     "output_type": "stream",
     "text": [
      "[0, 1, 4, 9, 16]\n"
     ]
    }
   ],
   "source": [
    "squares = [x**2 for x in range(5)]\n",
    "print(squares)  # [0, 1, 4, 9, 16]\n",
    "\n"
   ]
  },
  {
   "cell_type": "markdown",
   "id": "9634289b-95a0-431d-a0cd-715a192cbe4b",
   "metadata": {},
   "source": [
    "#### 10.Nested lists"
   ]
  },
  {
   "cell_type": "code",
   "execution_count": 11,
   "id": "6f4e9564-e7f0-4775-83de-ea7f5148a9fd",
   "metadata": {},
   "outputs": [
    {
     "name": "stdout",
     "output_type": "stream",
     "text": [
      "3\n"
     ]
    }
   ],
   "source": [
    "matrix = [[1, 2], [3, 4], [5, 6]]\n",
    "print(matrix[1][0])  # 3\n",
    "\n"
   ]
  },
  {
   "cell_type": "markdown",
   "id": "b7942c17-5e7e-434f-b2ea-9f46035a66a1",
   "metadata": {},
   "source": [
    "#### 11.Copying lists"
   ]
  },
  {
   "cell_type": "code",
   "execution_count": 12,
   "id": "fdb1c381-bb62-430d-9de2-d478361c2d0c",
   "metadata": {},
   "outputs": [],
   "source": [
    "a = [1, 2, 3]\n",
    "b = a.copy()        # shallow copy\n",
    "c = list(a)         # another way\n",
    "\n"
   ]
  },
  {
   "cell_type": "markdown",
   "id": "c17c14bf-f23a-4a9a-a868-351f4a5b2d07",
   "metadata": {},
   "source": [
    "#### 12.conversion"
   ]
  },
  {
   "cell_type": "code",
   "execution_count": 13,
   "id": "1b2eab27-3d8b-46db-86fa-6967a9e9beb2",
   "metadata": {},
   "outputs": [
    {
     "name": "stdout",
     "output_type": "stream",
     "text": [
      "[1, 2, 3]\n"
     ]
    }
   ],
   "source": [
    "t = (1, 2, 3)\n",
    "lst = list(t)   # tuple → list\n",
    "print(lst)      # [1, 2, 3]"
   ]
  },
  {
   "cell_type": "markdown",
   "id": "9388ad33-992b-4071-8d2f-954cd4c6f0eb",
   "metadata": {},
   "source": [
    "# Operations on tuple"
   ]
  },
  {
   "cell_type": "markdown",
   "id": "7446d138-0fc5-438f-99cd-763a028186a9",
   "metadata": {},
   "source": [
    "#### 1.Creation"
   ]
  },
  {
   "cell_type": "code",
   "execution_count": 14,
   "id": "40015362-0b40-49d4-bbd1-fd373f9fb4df",
   "metadata": {},
   "outputs": [],
   "source": [
    "t1 = (1, 2, 3)\n",
    "t2 = tuple([4, 5, 6])\n",
    "t3 = (7,)   # single-element tuple (comma is must)\n"
   ]
  },
  {
   "cell_type": "markdown",
   "id": "9a55038e-26b8-415f-87c5-5c1a53aeae45",
   "metadata": {},
   "source": [
    "#### 2.Accessing elements"
   ]
  },
  {
   "cell_type": "code",
   "execution_count": 15,
   "id": "0425e189-54b2-47dc-b158-4e288e645bb3",
   "metadata": {},
   "outputs": [
    {
     "name": "stdout",
     "output_type": "stream",
     "text": [
      "10\n",
      "50\n",
      "(20, 30, 40)\n"
     ]
    }
   ],
   "source": [
    "t = (10, 20, 30, 40, 50)\n",
    "print(t[0])    # 10 (first element)\n",
    "print(t[-1])   # 50 (last element)\n",
    "print(t[1:4])  # (20, 30, 40) (slicing)\n",
    "\n"
   ]
  },
  {
   "cell_type": "markdown",
   "id": "0370f651-a7f5-49ed-a4f5-ec0db1e819ee",
   "metadata": {},
   "source": [
    "#### 3.Concatenation&Repetition"
   ]
  },
  {
   "cell_type": "code",
   "execution_count": 16,
   "id": "52ec7aa7-fdb1-47d5-bc9d-0a64ebe3816b",
   "metadata": {},
   "outputs": [
    {
     "name": "stdout",
     "output_type": "stream",
     "text": [
      "(1, 2, 3, 4, 5)\n",
      "(1, 2, 3, 1, 2, 3)\n"
     ]
    }
   ],
   "source": [
    "t1 = (1, 2, 3)\n",
    "t2 = (4, 5)\n",
    "print(t1 + t2)   # (1, 2, 3, 4, 5)\n",
    "print(t1 * 2)    # (1, 2, 3, 1, 2, 3)"
   ]
  },
  {
   "cell_type": "markdown",
   "id": "41ebd2d1-cd50-4df6-9dbd-f32035e95363",
   "metadata": {},
   "source": [
    "#### 4.Membership test"
   ]
  },
  {
   "cell_type": "code",
   "execution_count": 17,
   "id": "8d888220-7fbb-4a98-badd-252a412abb90",
   "metadata": {},
   "outputs": [
    {
     "name": "stdout",
     "output_type": "stream",
     "text": [
      "True\n",
      "True\n"
     ]
    }
   ],
   "source": [
    "t = (1, 2, 3, 4, 5)\n",
    "print(3 in t)    # True\n",
    "print(6 not in t) # True\n"
   ]
  },
  {
   "cell_type": "markdown",
   "id": "49d2d3c9-d83b-497e-8166-708508805908",
   "metadata": {},
   "source": [
    "#### 5.Iteration"
   ]
  },
  {
   "cell_type": "code",
   "execution_count": 18,
   "id": "23323600-737d-4eba-8c95-d2e78afef377",
   "metadata": {},
   "outputs": [
    {
     "name": "stdout",
     "output_type": "stream",
     "text": [
      "10\n",
      "20\n",
      "30\n"
     ]
    }
   ],
   "source": [
    "\n",
    "for item in (10, 20, 30):\n",
    "    print(item)\n",
    "\n"
   ]
  },
  {
   "cell_type": "markdown",
   "id": "b4dff6ef-0f02-4d6e-b799-337b60c7a595",
   "metadata": {},
   "source": [
    "#### 6.Tuple functions"
   ]
  },
  {
   "cell_type": "code",
   "execution_count": 19,
   "id": "c7da9b82-93ee-402e-9008-f986fa012bb0",
   "metadata": {},
   "outputs": [
    {
     "name": "stdout",
     "output_type": "stream",
     "text": [
      "5\n",
      "8\n",
      "2\n",
      "24\n",
      "2\n",
      "4\n"
     ]
    }
   ],
   "source": [
    "t = (5, 2, 8, 2, 7)\n",
    "print(len(t))      # 5\n",
    "print(max(t))      # 8\n",
    "print(min(t))      # 2\n",
    "print(sum(t))      # 24\n",
    "print(t.count(2))  # 2 (occurrences of 2)\n",
    "print(t.index(7))  # 4 (position of 7)"
   ]
  },
  {
   "cell_type": "markdown",
   "id": "0ce4ae0d-467a-4fab-a164-1df1dd3acd07",
   "metadata": {},
   "source": [
    "#### 7.Packing&Unpacking"
   ]
  },
  {
   "cell_type": "code",
   "execution_count": 20,
   "id": "2154a60a-a2a9-4c24-b8f3-938b241690ea",
   "metadata": {},
   "outputs": [
    {
     "name": "stdout",
     "output_type": "stream",
     "text": [
      "10 20 30\n"
     ]
    }
   ],
   "source": [
    "t = (10, 20, 30)\n",
    "a, b, c = t\n",
    "print(a, b, c)  # 10 20 30"
   ]
  },
  {
   "cell_type": "markdown",
   "id": "c72dfbd1-c495-4ddf-88bc-f800ecbd26f5",
   "metadata": {},
   "source": [
    "#### 8.Nested tuples"
   ]
  },
  {
   "cell_type": "code",
   "execution_count": 21,
   "id": "a3ea63db-933c-4f7d-8428-64c3dd9c6713",
   "metadata": {},
   "outputs": [
    {
     "name": "stdout",
     "output_type": "stream",
     "text": [
      "3\n"
     ]
    }
   ],
   "source": [
    "t = (1, (2, 3), (4, 5, 6))\n",
    "print(t[1][1])  # 3"
   ]
  },
  {
   "cell_type": "markdown",
   "id": "ad98c6a5-0f6e-4e95-a807-c419014164df",
   "metadata": {},
   "source": [
    "#### 9.Immutability"
   ]
  },
  {
   "cell_type": "code",
   "execution_count": 23,
   "id": "676f9311-b733-4472-bf94-a61478192caf",
   "metadata": {},
   "outputs": [],
   "source": [
    "t = (1, 2, 3)\n",
    "# t[0] = 10 "
   ]
  },
  {
   "cell_type": "markdown",
   "id": "e86747d0-951d-4f9b-ae85-986bd0378cfb",
   "metadata": {},
   "source": [
    "#### 10.Conversation"
   ]
  },
  {
   "cell_type": "code",
   "execution_count": 22,
   "id": "e33e5ef0-6c1a-4268-bf87-ea39248d38f5",
   "metadata": {},
   "outputs": [
    {
     "name": "stdout",
     "output_type": "stream",
     "text": [
      "(1, 2, 3)\n",
      "[4, 5, 6]\n"
     ]
    }
   ],
   "source": [
    "\n",
    "list1 = [1, 2, 3]\n",
    "t = tuple(list1)   # Convert list to tuple\n",
    "print(t)  # (1, 2, 3)\n",
    "\n",
    "t2 = (4, 5, 6)\n",
    "list2 = list(t2)   # Convert tuple to list\n",
    "print(list2)  # [4, 5, 6]"
   ]
  },
  {
   "cell_type": "markdown",
   "id": "bf55f482-a1c7-4b69-be99-c0ad5382dc3a",
   "metadata": {},
   "source": [
    "# Operations on set"
   ]
  },
  {
   "cell_type": "markdown",
   "id": "d024e6a2-2e50-45ee-b604-1e27e00ce15c",
   "metadata": {},
   "source": [
    "#### 1.Creation"
   ]
  },
  {
   "cell_type": "code",
   "execution_count": 25,
   "id": "2582bc4c-179a-48ab-ba83-5d80fdcece31",
   "metadata": {},
   "outputs": [],
   "source": [
    "s1 = {1, 2, 3}\n",
    "s2 = set([4, 5, 6])  # from list\n",
    "s3 = {}              # ⚠️ this creates dict, not set\n",
    "s4 = set()           # correct empty set\n"
   ]
  },
  {
   "cell_type": "markdown",
   "id": "a1c80d1e-5ab4-4a99-ab3e-14b9c22ca386",
   "metadata": {},
   "source": [
    "#### 2 .Adding elements"
   ]
  },
  {
   "cell_type": "code",
   "execution_count": 26,
   "id": "70e4a525-90e5-447a-be51-25500b67aff4",
   "metadata": {},
   "outputs": [
    {
     "name": "stdout",
     "output_type": "stream",
     "text": [
      "{1, 2, 3, 4, 5, 6}\n"
     ]
    }
   ],
   "source": [
    "s = {1, 2, 3}\n",
    "s.add(4)        # add single element\n",
    "s.update([5, 6]) # add multiple elements\n",
    "print(s)  # {1, 2, 3, 4, 5, 6}\n"
   ]
  },
  {
   "cell_type": "markdown",
   "id": "ad63d4fc-992f-4b27-bbf7-a05a79aff8e8",
   "metadata": {},
   "source": [
    "#### 3.Removing elements"
   ]
  },
  {
   "cell_type": "code",
   "execution_count": 27,
   "id": "4c93dae6-1980-45bf-9f98-e3e30bbaa48f",
   "metadata": {},
   "outputs": [],
   "source": [
    "s = {1, 2, 3, 4}\n",
    "s.remove(3)    # removes 3, error if not found\n",
    "s.discard(5)   # removes if exists, no error\n",
    "popped = s.pop() # removes random element\n",
    "s.clear()      # empties the set\n"
   ]
  },
  {
   "cell_type": "markdown",
   "id": "28ed1b26-25be-4079-836a-9e1f43113a2c",
   "metadata": {},
   "source": [
    "#### 4.Set operations(mathematical)"
   ]
  },
  {
   "cell_type": "code",
   "execution_count": 28,
   "id": "ec639359-a511-4c4a-823a-907c72df897d",
   "metadata": {},
   "outputs": [
    {
     "name": "stdout",
     "output_type": "stream",
     "text": [
      "{1, 2, 3, 4, 5, 6}\n",
      "{3, 4}\n",
      "{1, 2}\n",
      "{5, 6}\n",
      "{1, 2, 5, 6}\n"
     ]
    }
   ],
   "source": [
    "A = {1, 2, 3, 4}\n",
    "B = {3, 4, 5, 6}\n",
    "\n",
    "print(A | B)   # Union: {1, 2, 3, 4, 5, 6}\n",
    "print(A & B)   # Intersection: {3, 4}\n",
    "print(A - B)   # Difference: {1, 2}\n",
    "print(B - A)   # Difference: {5, 6}\n",
    "print(A ^ B)   # Symmetric Difference: {1, 2, 5, 6}\n",
    "\n"
   ]
  },
  {
   "cell_type": "markdown",
   "id": "4c4eae9a-271d-4320-bc90-d33b9b548c13",
   "metadata": {},
   "source": [
    "#### 5.Membership test"
   ]
  },
  {
   "cell_type": "code",
   "execution_count": 29,
   "id": "0fec417a-8bee-43a6-8152-62e985ec3163",
   "metadata": {},
   "outputs": [
    {
     "name": "stdout",
     "output_type": "stream",
     "text": [
      "True\n",
      "True\n"
     ]
    }
   ],
   "source": [
    "s = {10, 20, 30}\n",
    "print(20 in s)      # True\n",
    "print(40 not in s)  # True\n",
    "\n"
   ]
  },
  {
   "cell_type": "markdown",
   "id": "3607faf8-6568-4cb4-bba8-8694ed32d84c",
   "metadata": {},
   "source": [
    "#### 6.Iteration"
   ]
  },
  {
   "cell_type": "code",
   "execution_count": 31,
   "id": "6912d79e-3683-43b0-86a8-cb6fc9c1a688",
   "metadata": {},
   "outputs": [
    {
     "name": "stdout",
     "output_type": "stream",
     "text": [
      "200\n",
      "100\n",
      "300\n"
     ]
    }
   ],
   "source": [
    "for item in {100, 200, 300}:\n",
    "    print(item)\n",
    "\n",
    "\n",
    "\n"
   ]
  },
  {
   "cell_type": "markdown",
   "id": "9fd4d163-bc08-437b-b8e6-e4124555ca26",
   "metadata": {},
   "source": [
    "#### 7.Set functions"
   ]
  },
  {
   "cell_type": "code",
   "execution_count": 32,
   "id": "06da8086-278f-4048-90f8-32d0dd269f75",
   "metadata": {},
   "outputs": [
    {
     "name": "stdout",
     "output_type": "stream",
     "text": [
      "4\n",
      "8\n",
      "2\n",
      "22\n"
     ]
    }
   ],
   "source": [
    "s = {5, 2, 8, 7}\n",
    "print(len(s))   # 4\n",
    "print(max(s))   # 8\n",
    "print(min(s))   # 2\n",
    "print(sum(s))   # 22\n"
   ]
  },
  {
   "cell_type": "markdown",
   "id": "ee9113c2-8054-4475-94fb-22a06a82a4cb",
   "metadata": {},
   "source": [
    "#### 8.Frozen set"
   ]
  },
  {
   "cell_type": "code",
   "execution_count": 33,
   "id": "dba3ba58-9656-4a17-bac0-76d089032bc9",
   "metadata": {},
   "outputs": [
    {
     "name": "stdout",
     "output_type": "stream",
     "text": [
      "frozenset({1, 2, 3})\n"
     ]
    }
   ],
   "source": [
    "fs = frozenset([1, 2, 3])\n",
    "# fs.add(4) ❌ Error: frozenset is immutable\n",
    "print(fs)  # frozenset({1, 2, 3})"
   ]
  },
  {
   "cell_type": "markdown",
   "id": "bd08b31a-c1bc-4aae-ae69-70cff8a81abe",
   "metadata": {},
   "source": [
    "# Operations on Dictionary"
   ]
  },
  {
   "cell_type": "markdown",
   "id": "3ad207a9-9f7d-4c0e-a9b2-e0ca3dd6d101",
   "metadata": {},
   "source": [
    "#### 1.Creation"
   ]
  },
  {
   "cell_type": "code",
   "execution_count": 34,
   "id": "54f1a283-8f61-49c3-8f0d-41564db7728e",
   "metadata": {},
   "outputs": [],
   "source": [
    "d1 = {\"a\": 1, \"b\": 2}\n",
    "d2 = dict(x=10, y=20)   # using dict()\n",
    "d3 = {}                 # empty dictionary\n"
   ]
  },
  {
   "cell_type": "markdown",
   "id": "8dfaa175-9289-458a-ab03-7a366b3326f7",
   "metadata": {},
   "source": [
    "#### 2.Accessing elements"
   ]
  },
  {
   "cell_type": "code",
   "execution_count": 35,
   "id": "fb77c43b-9936-4e8d-a0c7-ce46d96bbc1c",
   "metadata": {},
   "outputs": [
    {
     "name": "stdout",
     "output_type": "stream",
     "text": [
      "John\n",
      "20\n",
      "N/A\n"
     ]
    }
   ],
   "source": [
    "student = {\"name\": \"John\", \"age\": 20, \"marks\": 85}\n",
    "print(student[\"name\"])       # John\n",
    "print(student.get(\"age\"))    # 20\n",
    "print(student.get(\"grade\", \"N/A\"))  # N/A (default if key missing)\n",
    "\n"
   ]
  },
  {
   "cell_type": "markdown",
   "id": "390d8751-a053-4d1b-b111-35c7c5b841a1",
   "metadata": {},
   "source": [
    "#### 3.Adding/updating"
   ]
  },
  {
   "cell_type": "code",
   "execution_count": 36,
   "id": "74a21e5b-8e01-4c39-8f56-a5890caaa4c9",
   "metadata": {},
   "outputs": [
    {
     "name": "stdout",
     "output_type": "stream",
     "text": [
      "John\n",
      "20\n",
      "N/A\n"
     ]
    }
   ],
   "source": [
    "student = {\"name\": \"John\", \"age\": 20, \"marks\": 85}\n",
    "print(student[\"name\"])       # John\n",
    "print(student.get(\"age\"))    # 20\n",
    "print(student.get(\"grade\", \"N/A\"))  # N/A (default if key missing)\n",
    "\n"
   ]
  },
  {
   "cell_type": "markdown",
   "id": "de8b3d21-554d-4d57-aad2-61e688f097b9",
   "metadata": {},
   "source": [
    "#### 4.Removing"
   ]
  },
  {
   "cell_type": "code",
   "execution_count": 37,
   "id": "b80931e0-cdf9-4c48-9a44-32b3dbc24567",
   "metadata": {},
   "outputs": [],
   "source": [
    "d = {\"a\": 1, \"b\": 2, \"c\": 3}\n",
    "d.pop(\"b\")         # removes key 'b'\n",
    "d.popitem()        # removes last inserted item\n",
    "del d[\"a\"]         # delete key 'a'\n",
    "d.clear()          # removes all items\n"
   ]
  },
  {
   "cell_type": "markdown",
   "id": "b21551b4-5885-4d72-a944-1c9a879877ca",
   "metadata": {},
   "source": [
    "#### 5.Iteration"
   ]
  },
  {
   "cell_type": "code",
   "execution_count": 38,
   "id": "d476d93e-3af2-4515-ba3c-28d924005097",
   "metadata": {},
   "outputs": [
    {
     "name": "stdout",
     "output_type": "stream",
     "text": [
      "name John\n",
      "age 21\n",
      "city Delhi\n",
      "John\n",
      "21\n",
      "Delhi\n",
      "name : John\n",
      "age : 21\n",
      "city : Delhi\n"
     ]
    }
   ],
   "source": [
    "student = {\"name\": \"John\", \"age\": 21, \"city\": \"Delhi\"}\n",
    "\n",
    "for key in student:\n",
    "    print(key, student[key])   # iterate keys & values\n",
    "\n",
    "for value in student.values():\n",
    "    print(value)               # iterate values\n",
    "\n",
    "for key, value in student.items():\n",
    "    print(key, \":\", value)     # iterate key-value pairs\n"
   ]
  },
  {
   "cell_type": "markdown",
   "id": "7eec622c-9125-47b7-b3cb-0006e0e4207f",
   "metadata": {},
   "source": [
    "#### 6.Dictionary Functions"
   ]
  },
  {
   "cell_type": "code",
   "execution_count": 39,
   "id": "1a782115-c37f-4e86-8bbb-621d31ec846b",
   "metadata": {},
   "outputs": [
    {
     "name": "stdout",
     "output_type": "stream",
     "text": [
      "3\n",
      "dict_keys(['x', 'y', 'z'])\n",
      "dict_values([10, 20, 30])\n",
      "dict_items([('x', 10), ('y', 20), ('z', 30)])\n",
      "True\n"
     ]
    }
   ],
   "source": [
    "d = {\"x\": 10, \"y\": 20, \"z\": 30}\n",
    "\n",
    "print(len(d))           # 3\n",
    "print(d.keys())         # dict_keys(['x', 'y', 'z'])\n",
    "print(d.values())       # dict_values([10, 20, 30])\n",
    "print(d.items())        # dict_items([('x', 10), ('y', 20), ('z', 30)])\n",
    "print(\"x\" in d)         # True (check key existence)\n",
    "\n"
   ]
  },
  {
   "cell_type": "markdown",
   "id": "4372ae68-c3eb-4d0b-93d5-523b0917ff4c",
   "metadata": {},
   "source": [
    "#### 7.Copying"
   ]
  },
  {
   "cell_type": "code",
   "execution_count": 40,
   "id": "2697df42-71ef-4382-b697-aeda0e56d0c5",
   "metadata": {},
   "outputs": [],
   "source": [
    "d1 = {\"a\": 1, \"b\": 2}\n",
    "d2 = d1.copy()\n",
    "\n"
   ]
  },
  {
   "cell_type": "markdown",
   "id": "845421ab-2ccb-4039-81f6-910557c74b4c",
   "metadata": {},
   "source": [
    "#### 8.Merging Dictionaries"
   ]
  },
  {
   "cell_type": "code",
   "execution_count": 41,
   "id": "78cbff0e-5f15-47ba-a8b6-20f0aa30d080",
   "metadata": {},
   "outputs": [
    {
     "name": "stdout",
     "output_type": "stream",
     "text": [
      "{'a': 1, 'b': 2, 'c': 3, 'd': 4}\n"
     ]
    }
   ],
   "source": [
    "d1 = {\"a\": 1, \"b\": 2}\n",
    "d2 = {\"c\": 3, \"d\": 4}\n",
    "\n",
    "d1.update(d2)   # merge\n",
    "print(d1)       # {'a': 1, 'b': 2, 'c': 3, 'd': 4}\n"
   ]
  },
  {
   "cell_type": "markdown",
   "id": "fa04ccfc-19b9-4c50-90f4-8dca12b91cf7",
   "metadata": {},
   "source": [
    "#### 9.Nested Dictionary"
   ]
  },
  {
   "cell_type": "code",
   "execution_count": 42,
   "id": "3de1b81f-d6ea-4ced-8532-37706a63788d",
   "metadata": {},
   "outputs": [
    {
     "name": "stdout",
     "output_type": "stream",
     "text": [
      "Alice\n"
     ]
    }
   ],
   "source": [
    "students = {\n",
    "    \"101\": {\"name\": \"Alice\", \"marks\": 85},\n",
    "    \"102\": {\"name\": \"Bob\", \"marks\": 90}\n",
    "}\n",
    "print(students[\"101\"][\"name\"])  # Alice\n"
   ]
  },
  {
   "cell_type": "markdown",
   "id": "fd56a160-cca1-42bf-9810-60ab2c327c44",
   "metadata": {},
   "source": [
    "#### 10.Dictionary comprehension"
   ]
  },
  {
   "cell_type": "code",
   "execution_count": 43,
   "id": "c335123d-6ddf-4360-86fa-083ca5096e7a",
   "metadata": {},
   "outputs": [
    {
     "name": "stdout",
     "output_type": "stream",
     "text": [
      "{0: 0, 1: 1, 2: 4, 3: 9, 4: 16}\n"
     ]
    }
   ],
   "source": [
    "squares = {x: x**2 for x in range(5)}\n",
    "print(squares)   # {0: 0, 1: 1, 2: 4, 3: 9, 4: 16}"
   ]
  },
  {
   "cell_type": "code",
   "execution_count": null,
   "id": "a6de6987-c8a5-4f2d-a5cb-5e4a70c4cd69",
   "metadata": {},
   "outputs": [],
   "source": []
  }
 ],
 "metadata": {
  "kernelspec": {
   "display_name": "Python 3 (ipykernel)",
   "language": "python",
   "name": "python3"
  },
  "language_info": {
   "codemirror_mode": {
    "name": "ipython",
    "version": 3
   },
   "file_extension": ".py",
   "mimetype": "text/x-python",
   "name": "python",
   "nbconvert_exporter": "python",
   "pygments_lexer": "ipython3",
   "version": "3.13.5"
  }
 },
 "nbformat": 4,
 "nbformat_minor": 5
}
